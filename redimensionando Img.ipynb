{
 "cells": [
  {
   "cell_type": "code",
   "execution_count": 4,
   "metadata": {},
   "outputs": [],
   "source": [
    "import cv2\n",
    "import os \n",
    "import numpy as np\n",
    "from PIL import Image\n",
    "import pathlib"
   ]
  },
  {
   "cell_type": "code",
   "execution_count": 8,
   "metadata": {},
   "outputs": [],
   "source": [
    "pasta_img = 'data/train/pessoas caindo' \n",
    "pastas_finais = 'data/train/pessoas caindo_final'  "
   ]
  },
  {
   "cell_type": "code",
   "execution_count": 11,
   "metadata": {},
   "outputs": [],
   "source": [
    "def salvarImageTreinamento(pasta_img, pastas_finais):\n",
    "    caminhosImagens = [os.path.join(pasta_img, f) for f in os.listdir(pasta_img)]\n",
    "    num_imagem = 1\n",
    "    for imagem in caminhosImagens:\n",
    "        nome_imagem = os.path.split(imagem)[1].split(\"/\")[0]\n",
    "        sem_extensao = os.path.split(nome_imagem)[1].split(\".\")[0]\n",
    "        nome_padrao=\"caindo\"\n",
    "        nome_salvo = nome_padrao + \"_\" + str(num_imagem)\n",
    "        print(nome_imagem)\n",
    "        try:\n",
    "            diretorio_salvo = pastas_finais + \"/\"\n",
    "            #carregando a imagem e revertendo para escala de cinza\n",
    "            img = Image.open(pasta_img + \"/\" + nome_imagem).convert('L')\n",
    "            #convertendo imagem Pil para numpy array\n",
    "            imgNp = np.array(img, 'uint8')\n",
    "            imgNp = cv2.resize(imgNp, (100,100))\n",
    "            pathlib.Path(diretorio_salvo).mkdir(parents=True, exist_ok=True)\n",
    "            cv2.imwrite(diretorio_salvo + nome_salvo + \".jpg\", imgNp)\n",
    "            cv2.imshow('Imagem', imgNp)\n",
    "            cv2.waitKey(100)\n",
    "            num_imagem +=1\n",
    "        except ValueError:\n",
    "            print('.')"
   ]
  },
  {
   "cell_type": "code",
   "execution_count": 12,
   "metadata": {},
   "outputs": [
    {
     "name": "stdout",
     "output_type": "stream",
     "text": [
      "01.jpg\n",
      "02.jpg\n",
      "03.jpg\n",
      "04.jpg\n",
      "05.jpg\n",
      "06.jpg\n",
      "07.jpg\n",
      "08.jpg\n",
      "09.jpg\n",
      "10.jpg\n",
      "11.jpg\n",
      "12.jpg\n",
      "13.jpg\n",
      "14.jpg\n",
      "15.jpg\n",
      "16.jpg\n",
      "17.jpg\n",
      "18.png\n",
      "19.png\n",
      "20.png\n",
      "21.png\n",
      "22.png\n",
      "23.png\n",
      "24.png\n",
      "25.png\n",
      "26.png\n",
      "27.png\n",
      "28.png\n",
      "29.png\n",
      "30.png\n"
     ]
    }
   ],
   "source": [
    "salvarImageTreinamento(pasta_img, pastas_finais)"
   ]
  },
  {
   "cell_type": "code",
   "execution_count": null,
   "metadata": {},
   "outputs": [],
   "source": []
  }
 ],
 "metadata": {
  "kernelspec": {
   "display_name": "Python 3",
   "language": "python",
   "name": "python3"
  },
  "language_info": {
   "codemirror_mode": {
    "name": "ipython",
    "version": 3
   },
   "file_extension": ".py",
   "mimetype": "text/x-python",
   "name": "python",
   "nbconvert_exporter": "python",
   "pygments_lexer": "ipython3",
   "version": "3.5.6"
  }
 },
 "nbformat": 4,
 "nbformat_minor": 2
}
